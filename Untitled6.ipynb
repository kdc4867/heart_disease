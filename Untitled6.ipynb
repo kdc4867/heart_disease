{
  "nbformat": 4,
  "nbformat_minor": 0,
  "metadata": {
    "colab": {
      "provenance": [],
      "authorship_tag": "ABX9TyMezxZZnS1aw18JtIyrV+mO",
      "include_colab_link": true
    },
    "kernelspec": {
      "name": "python3",
      "display_name": "Python 3"
    },
    "language_info": {
      "name": "python"
    }
  },
  "cells": [
    {
      "cell_type": "markdown",
      "metadata": {
        "id": "view-in-github",
        "colab_type": "text"
      },
      "source": [
        "<a href=\"https://colab.research.google.com/github/kdc4867/heart_disease/blob/main/Untitled6.ipynb\" target=\"_parent\"><img src=\"https://colab.research.google.com/assets/colab-badge.svg\" alt=\"Open In Colab\"/></a>"
      ]
    },
    {
      "cell_type": "code",
      "execution_count": 16,
      "metadata": {
        "colab": {
          "base_uri": "https://localhost:8080/"
        },
        "id": "6wC34ZJ8mWfx",
        "outputId": "544a08c1-c174-4cdb-d144-62112701d861"
      },
      "outputs": [
        {
          "output_type": "stream",
          "name": "stdout",
          "text": [
            "Drive already mounted at /content/drive; to attempt to forcibly remount, call drive.mount(\"/content/drive\", force_remount=True).\n"
          ]
        }
      ],
      "source": [
        "from google.colab import drive\n",
        "drive.mount('/content/drive')"
      ]
    },
    {
      "cell_type": "code",
      "source": [
        "!cp /content/drive/MyDrive/heart_disease/data_preprocessing.py .\n",
        "!cp /content/drive/MyDrive/heart_disease/model.py ."
      ],
      "metadata": {
        "id": "wWZVgEdFml6_"
      },
      "execution_count": 17,
      "outputs": []
    },
    {
      "cell_type": "code",
      "source": [
        "import sys\n",
        "import os\n",
        "sys.path.append(os.path.abspath('.'))"
      ],
      "metadata": {
        "id": "mbvDLnoXrwpc"
      },
      "execution_count": 20,
      "outputs": []
    },
    {
      "cell_type": "code",
      "source": [
        "try:\n",
        "    from data_preprocessing import load_and_preprocess_data\n",
        "    from model import HeartDiseaseModel, save_model, load_model\n",
        "    print(\"Modules imported successfully.\")\n",
        "except ImportError as e:\n",
        "    print(f\"Error importing modules: {e}\")"
      ],
      "metadata": {
        "colab": {
          "base_uri": "https://localhost:8080/"
        },
        "id": "XKtkH_4-m7xY",
        "outputId": "404f42ff-b9f6-4340-fa8a-991a50c46289"
      },
      "execution_count": 23,
      "outputs": [
        {
          "output_type": "stream",
          "name": "stdout",
          "text": [
            "Modules imported successfully.\n"
          ]
        }
      ]
    },
    {
      "cell_type": "code",
      "source": [
        "import torch\n",
        "import torch.optim as optim\n",
        "from torch.utils.data import DataLoader, TensorDataset"
      ],
      "metadata": {
        "id": "hEUv9VcgnUAY"
      },
      "execution_count": 11,
      "outputs": []
    },
    {
      "cell_type": "code",
      "source": [
        "file_path = '/content/drive/MyDrive/heart_disease/heart_2020_cleaned.csv'\n",
        "one_hot_train, y_train, one_hot_test, y_test = load_and_preprocess_data(file_path)\n",
        "\n",
        "#DataFrame을 Tensor로 변환\n",
        "X_train_tensor = torch.tensor(one_hot_train.values, dtype=torch.float32)\n",
        "y_train_tensor = torch.tensor(y_train.values, dtype=torch.float32).unsqueeze(1)\n",
        "X_test_tensor = torch.tensor(one_hot_test.values, dtype=torch.float32)\n",
        "y_test_tensor = torch.tensor(y_test.values, dtype=torch.float32).unsqueeze(1)\n",
        "\n",
        "#TensorDataset 생성\n",
        "train_dataset = TensorDataset(X_train_tensor, y_train_tensor)\n",
        "test_dataset = TensorDataset(X_test_tensor, y_test_tensor)\n",
        "\n",
        "#DataLoader 생성\n",
        "BATCH_SIZE = 100\n",
        "train_loader = DataLoader(train_dataset, batch_size=BATCH_SIZE, shuffle=True)\n",
        "test_loader = DataLoader(test_dataset, batch_size=BATCH_SIZE, shuffle=True)\n",
        "\n",
        "#모델 정의\n",
        "input_dim = one_hot_train.shape[1]\n",
        "model = HeartDiseaseModel(input_dim)\n",
        "\n",
        "#손실 함수 및 최적화기 정의\n",
        "criterion = torch.nn.BCELoss()\n",
        "optimizer = optim.Adam(model.parameters(), lr=0.001)\n"
      ],
      "metadata": {
        "id": "-uzReUBoncMt"
      },
      "execution_count": 24,
      "outputs": []
    },
    {
      "cell_type": "code",
      "source": [
        "#모델 훈련\n",
        "num_epochs = 20\n",
        "for epoch in range(num_epochs):\n",
        "  model.train()\n",
        "  running_loss = 0.0\n",
        "  for X_batch, y_batch in train_loader:\n",
        "    optimizer.zero_grad()\n",
        "    outputs = model(X_batch)\n",
        "    loss = criterion(outputs, y_batch)\n",
        "    loss.backward()\n",
        "    optimizer.step()\n",
        "    running_loss += loss.item()\n",
        "\n",
        "  print(f'Epoch [{epoch+1}/{num_epochs}], Loss: {running_loss/len(train_loader):.4f}')\n"
      ],
      "metadata": {
        "colab": {
          "base_uri": "https://localhost:8080/"
        },
        "id": "oBLkf_YvpMxh",
        "outputId": "c6507af1-5e96-4f37-8a2e-90686ef8a6f3"
      },
      "execution_count": 25,
      "outputs": [
        {
          "output_type": "stream",
          "name": "stdout",
          "text": [
            "Epoch [1/20], Loss: 0.2771\n",
            "Epoch [2/20], Loss: 0.2462\n",
            "Epoch [3/20], Loss: 0.2435\n",
            "Epoch [4/20], Loss: 0.2432\n",
            "Epoch [5/20], Loss: 0.2429\n",
            "Epoch [6/20], Loss: 0.2427\n",
            "Epoch [7/20], Loss: 0.2426\n",
            "Epoch [8/20], Loss: 0.2426\n",
            "Epoch [9/20], Loss: 0.2425\n",
            "Epoch [10/20], Loss: 0.2423\n",
            "Epoch [11/20], Loss: 0.2422\n",
            "Epoch [12/20], Loss: 0.2422\n",
            "Epoch [13/20], Loss: 0.2420\n",
            "Epoch [14/20], Loss: 0.2418\n",
            "Epoch [15/20], Loss: 0.2418\n",
            "Epoch [16/20], Loss: 0.2418\n",
            "Epoch [17/20], Loss: 0.2417\n",
            "Epoch [18/20], Loss: 0.2417\n",
            "Epoch [19/20], Loss: 0.2417\n",
            "Epoch [20/20], Loss: 0.2418\n"
          ]
        }
      ]
    },
    {
      "cell_type": "code",
      "source": [
        "#모델 저장\n",
        "save_model(model, '/content/drive/MyDrive/heart_disease/heart_disease_model.pth')"
      ],
      "metadata": {
        "id": "aYoDQd8Np_0h"
      },
      "execution_count": 26,
      "outputs": []
    },
    {
      "cell_type": "code",
      "source": [
        "#모델 평가\n",
        "model.eval()\n",
        "with torch.no_grad():\n",
        "  correct = 0\n",
        "  total = 0\n",
        "  for X_batch, y_batch in test_loader:\n",
        "    outputs = model(X_batch)\n",
        "    predicted = (outputs > 0.5).float()\n",
        "    total += y_batch.size(0)\n",
        "    correct += (predicted == y_batch).sum().item()\n",
        "\n",
        "  print(f'Accuracy: {100 * correct / total:.2f}%')"
      ],
      "metadata": {
        "colab": {
          "base_uri": "https://localhost:8080/"
        },
        "id": "DluSr2j1qKrH",
        "outputId": "3e4ceb1e-93ce-4484-f7a6-47b53eefbf7a"
      },
      "execution_count": 27,
      "outputs": [
        {
          "output_type": "stream",
          "name": "stdout",
          "text": [
            "Accuracy: 91.26%\n"
          ]
        }
      ]
    },
    {
      "cell_type": "code",
      "source": [],
      "metadata": {
        "id": "ovUCbrZSul1O"
      },
      "execution_count": null,
      "outputs": []
    }
  ]
}